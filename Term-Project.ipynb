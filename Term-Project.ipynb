{
 "cells": [
  {
   "cell_type": "code",
   "execution_count": 1,
   "id": "065e5a9c",
   "metadata": {},
   "outputs": [],
   "source": [
    "from tqdm import trange, notebook"
   ]
  },
  {
   "cell_type": "code",
   "execution_count": 2,
   "id": "630f4589",
   "metadata": {},
   "outputs": [],
   "source": [
    "import numpy as np\n",
    "import tensorflow as tf\n",
    "import matplotlib.pyplot as plt\n",
    "%matplotlib inline\n",
    "import os \n",
    "from glob import glob\n",
    "from PIL import Image"
   ]
  },
  {
   "cell_type": "code",
   "execution_count": 3,
   "id": "3c4e8af5",
   "metadata": {},
   "outputs": [],
   "source": [
    "data_list = glob('./CIFAR100/train/*.png')"
   ]
  },
  {
   "cell_type": "code",
   "execution_count": 4,
   "id": "23cc9bcf",
   "metadata": {},
   "outputs": [],
   "source": [
    "def get_label_from_path(path):\n",
    "    labelpath1 = path.split('\\\\')[-1]\n",
    "    labelpath2 = labelpath1.split('.')[-2]\n",
    "    labelpath3 = labelpath2.split('_')[1:]\n",
    "    labelpath4 = \"_\".join(labelpath3)\n",
    "    return labelpath4"
   ]
  },
  {
   "cell_type": "code",
   "execution_count": 5,
   "id": "7d498e26",
   "metadata": {},
   "outputs": [],
   "source": [
    "label_name_list = []\n",
    "for path in data_list:\n",
    "    label_name_list.append(get_label_from_path(path))"
   ]
  },
  {
   "cell_type": "code",
   "execution_count": null,
   "id": "cdd0bd1e",
   "metadata": {},
   "outputs": [],
   "source": []
  },
  {
   "cell_type": "code",
   "execution_count": 6,
   "id": "95088aba",
   "metadata": {},
   "outputs": [],
   "source": [
    "unique_label_names = np.unique(label_name_list)"
   ]
  },
  {
   "cell_type": "code",
   "execution_count": 7,
   "id": "7e6abce5",
   "metadata": {},
   "outputs": [
    {
     "name": "stdout",
     "output_type": "stream",
     "text": [
      "['apple' 'aquarium_fish' 'baby' 'bear' 'beaver' 'bed' 'bee' 'beetle'\n",
      " 'bicycle' 'bottle' 'bowl' 'boy' 'bridge' 'bus' 'butterfly' 'camel' 'can'\n",
      " 'castle' 'caterpillar' 'cattle' 'chair' 'chimpanzee' 'clock' 'cloud'\n",
      " 'cockroach' 'couch' 'crab' 'crocodile' 'cup' 'dinosaur' 'dolphin'\n",
      " 'elephant' 'flatfish' 'forest' 'fox' 'girl' 'hamster' 'house' 'kangaroo'\n",
      " 'keyboard' 'lamp' 'lawn_mower' 'leopard' 'lion' 'lizard' 'lobster' 'man'\n",
      " 'maple_tree' 'motorcycle' 'mountain' 'mouse' 'mushroom' 'oak_tree'\n",
      " 'orange' 'orchid' 'otter' 'palm_tree' 'pear' 'pickup_truck' 'pine_tree'\n",
      " 'plain' 'plate' 'poppy' 'porcupine' 'possum' 'rabbit' 'raccoon' 'ray'\n",
      " 'road' 'rocket' 'rose' 'sea' 'seal' 'shark' 'shrew' 'skunk' 'skyscraper'\n",
      " 'snail' 'snake' 'spider' 'squirrel' 'streetcar' 'sunflower'\n",
      " 'sweet_pepper' 'table' 'tank' 'telephone' 'television' 'tiger' 'tractor'\n",
      " 'train' 'trout' 'tulip' 'turtle' 'wardrobe' 'whale' 'willow_tree' 'wolf'\n",
      " 'woman' 'worm'] 100\n"
     ]
    }
   ],
   "source": [
    "print(unique_label_names, len(unique_label_names))"
   ]
  },
  {
   "cell_type": "code",
   "execution_count": 8,
   "id": "7e5a8f02",
   "metadata": {},
   "outputs": [],
   "source": [
    "# label_name_array = np.array(label_name_list)\n",
    "# train_y = []\n",
    "# train_y.append(label_name_array)"
   ]
  },
  {
   "cell_type": "code",
   "execution_count": 9,
   "id": "6649f751",
   "metadata": {},
   "outputs": [],
   "source": [
    "# train_y"
   ]
  },
  {
   "cell_type": "code",
   "execution_count": 10,
   "id": "85f4d37e",
   "metadata": {},
   "outputs": [],
   "source": [
    "# train_y_1d = np.concatenate(train_y)"
   ]
  },
  {
   "cell_type": "code",
   "execution_count": 11,
   "id": "1f46abdc",
   "metadata": {},
   "outputs": [],
   "source": [
    "# train_y_1d"
   ]
  },
  {
   "cell_type": "code",
   "execution_count": null,
   "id": "315211d5",
   "metadata": {},
   "outputs": [],
   "source": []
  },
  {
   "cell_type": "code",
   "execution_count": 12,
   "id": "9b447c22",
   "metadata": {},
   "outputs": [],
   "source": [
    "unique_label_num = []\n",
    "a = 0\n",
    "for temp in range(len(unique_label_names)):\n",
    "    unique_label_num.append(a)\n",
    "    a+=1"
   ]
  },
  {
   "cell_type": "code",
   "execution_count": 13,
   "id": "0a0e2b8f",
   "metadata": {},
   "outputs": [
    {
     "data": {
      "text/plain": [
       "[0,\n",
       " 1,\n",
       " 2,\n",
       " 3,\n",
       " 4,\n",
       " 5,\n",
       " 6,\n",
       " 7,\n",
       " 8,\n",
       " 9,\n",
       " 10,\n",
       " 11,\n",
       " 12,\n",
       " 13,\n",
       " 14,\n",
       " 15,\n",
       " 16,\n",
       " 17,\n",
       " 18,\n",
       " 19,\n",
       " 20,\n",
       " 21,\n",
       " 22,\n",
       " 23,\n",
       " 24,\n",
       " 25,\n",
       " 26,\n",
       " 27,\n",
       " 28,\n",
       " 29,\n",
       " 30,\n",
       " 31,\n",
       " 32,\n",
       " 33,\n",
       " 34,\n",
       " 35,\n",
       " 36,\n",
       " 37,\n",
       " 38,\n",
       " 39,\n",
       " 40,\n",
       " 41,\n",
       " 42,\n",
       " 43,\n",
       " 44,\n",
       " 45,\n",
       " 46,\n",
       " 47,\n",
       " 48,\n",
       " 49,\n",
       " 50,\n",
       " 51,\n",
       " 52,\n",
       " 53,\n",
       " 54,\n",
       " 55,\n",
       " 56,\n",
       " 57,\n",
       " 58,\n",
       " 59,\n",
       " 60,\n",
       " 61,\n",
       " 62,\n",
       " 63,\n",
       " 64,\n",
       " 65,\n",
       " 66,\n",
       " 67,\n",
       " 68,\n",
       " 69,\n",
       " 70,\n",
       " 71,\n",
       " 72,\n",
       " 73,\n",
       " 74,\n",
       " 75,\n",
       " 76,\n",
       " 77,\n",
       " 78,\n",
       " 79,\n",
       " 80,\n",
       " 81,\n",
       " 82,\n",
       " 83,\n",
       " 84,\n",
       " 85,\n",
       " 86,\n",
       " 87,\n",
       " 88,\n",
       " 89,\n",
       " 90,\n",
       " 91,\n",
       " 92,\n",
       " 93,\n",
       " 94,\n",
       " 95,\n",
       " 96,\n",
       " 97,\n",
       " 98,\n",
       " 99]"
      ]
     },
     "execution_count": 13,
     "metadata": {},
     "output_type": "execute_result"
    }
   ],
   "source": [
    "unique_label_num"
   ]
  },
  {
   "cell_type": "code",
   "execution_count": 14,
   "id": "b7f81679",
   "metadata": {},
   "outputs": [],
   "source": [
    "unique_label_num_array = np.array(unique_label_num)"
   ]
  },
  {
   "cell_type": "code",
   "execution_count": 15,
   "id": "eb3d154d",
   "metadata": {},
   "outputs": [],
   "source": [
    "# label_name_array = np.array(label_name_list)\n",
    "train_y_list = []\n",
    "for label_name_index in range(len(label_name_list)):\n",
    "    for unique_label_name_index in range(len(unique_label_names)):\n",
    "        if (label_name_list[label_name_index] == unique_label_names[unique_label_name_index]):\n",
    "            train_y_list.append(unique_label_name_index)\n",
    "train_y = np.array(train_y_list)\n"
   ]
  },
  {
   "cell_type": "code",
   "execution_count": 16,
   "id": "f10928f9",
   "metadata": {},
   "outputs": [
    {
     "data": {
      "text/plain": [
       "array([19, 48, 77, ..., 96, 93, 31])"
      ]
     },
     "execution_count": 16,
     "metadata": {},
     "output_type": "execute_result"
    }
   ],
   "source": [
    "train_y"
   ]
  },
  {
   "cell_type": "code",
   "execution_count": null,
   "id": "b9aa8ba0",
   "metadata": {},
   "outputs": [],
   "source": []
  },
  {
   "cell_type": "code",
   "execution_count": 17,
   "id": "091bd824",
   "metadata": {},
   "outputs": [],
   "source": [
    "# unique_label_num = []\n",
    "# a = 0\n",
    "# for temp in range(len(unique_label_names)):\n",
    "#     unique_label_num.append(a)\n",
    "#     a+=1"
   ]
  },
  {
   "cell_type": "code",
   "execution_count": 18,
   "id": "e90e815d",
   "metadata": {},
   "outputs": [],
   "source": [
    "# label_num = []\n",
    "# for label_name_index in range(len(label_name_list)):\n",
    "#     for unique_label_name_index in range(len(unique_label_names)):\n",
    "#         if (label_name_list[label_name_index] == unique_label_names[unique_label_name_index]):\n",
    "#             label_num.append(unique_label_name_index)\n",
    "# print(label_num)"
   ]
  },
  {
   "cell_type": "code",
   "execution_count": null,
   "id": "7f88458e",
   "metadata": {},
   "outputs": [],
   "source": []
  },
  {
   "cell_type": "code",
   "execution_count": 19,
   "id": "b362744c",
   "metadata": {},
   "outputs": [],
   "source": [
    "paths = tf.io.matching_files('./CIFAR100/train/*.png')"
   ]
  },
  {
   "cell_type": "code",
   "execution_count": 20,
   "id": "1718e4e8",
   "metadata": {},
   "outputs": [
    {
     "data": {
      "text/plain": [
       "<tf.Tensor: shape=(50000,), dtype=string, numpy=\n",
       "array([b'.\\\\CIFAR100\\\\train\\\\0_cattle.png',\n",
       "       b'.\\\\CIFAR100\\\\train\\\\10000_motorcycle.png',\n",
       "       b'.\\\\CIFAR100\\\\train\\\\10001_snail.png', ...,\n",
       "       b'.\\\\CIFAR100\\\\train\\\\999_willow_tree.png',\n",
       "       b'.\\\\CIFAR100\\\\train\\\\99_turtle.png',\n",
       "       b'.\\\\CIFAR100\\\\train\\\\9_elephant.png'], dtype=object)>"
      ]
     },
     "execution_count": 20,
     "metadata": {},
     "output_type": "execute_result"
    }
   ],
   "source": [
    "paths"
   ]
  },
  {
   "cell_type": "code",
   "execution_count": 21,
   "id": "108c92b2",
   "metadata": {},
   "outputs": [],
   "source": [
    "def tf_read_image(paths):\n",
    "    gfile = tf.io.read_file(paths)\n",
    "    image = tf.io.decode_image(gfile, dtype=tf.float32)\n",
    "    return image"
   ]
  },
  {
   "cell_type": "code",
   "execution_count": 22,
   "id": "3085b537",
   "metadata": {},
   "outputs": [],
   "source": [
    "def make_batch(batch_paths):\n",
    "    batch_images = []\n",
    "    for paths in batch_paths:\n",
    "        image = tf_read_image(path)\n",
    "        batch_images.append(image)\n",
    "    return tf.convert_to_tensor(batch_images)"
   ]
  },
  {
   "cell_type": "code",
   "execution_count": 23,
   "id": "dbeebcd7",
   "metadata": {},
   "outputs": [],
   "source": [
    "train_x = make_batch(paths)"
   ]
  },
  {
   "cell_type": "code",
   "execution_count": 24,
   "id": "e61c88dc",
   "metadata": {
    "scrolled": true
   },
   "outputs": [
    {
     "data": {
      "text/plain": [
       "(TensorShape([50000, 32, 32, 3]), (50000,))"
      ]
     },
     "execution_count": 24,
     "metadata": {},
     "output_type": "execute_result"
    }
   ],
   "source": [
    "train_x.shape, train_y.shape"
   ]
  },
  {
   "cell_type": "code",
   "execution_count": 25,
   "id": "19b58c8a",
   "metadata": {},
   "outputs": [
    {
     "data": {
      "text/plain": [
       "TensorShape([50000, 32, 32, 3])"
      ]
     },
     "execution_count": 25,
     "metadata": {},
     "output_type": "execute_result"
    }
   ],
   "source": [
    "train_x.shape"
   ]
  },
  {
   "cell_type": "code",
   "execution_count": 26,
   "id": "a6428c48",
   "metadata": {
    "scrolled": true
   },
   "outputs": [
    {
     "data": {
      "text/plain": [
       "<tf.Tensor: shape=(50000, 32, 32, 3), dtype=float32, numpy=\n",
       "array([[[[1.        , 1.        , 1.        ],\n",
       "         [1.        , 1.        , 1.        ],\n",
       "         [1.        , 1.        , 1.        ],\n",
       "         ...,\n",
       "         [0.80784315, 0.80784315, 0.8039216 ],\n",
       "         [1.        , 1.        , 1.        ],\n",
       "         [1.        , 1.        , 1.        ]],\n",
       "\n",
       "        [[1.        , 1.        , 1.        ],\n",
       "         [0.99607843, 0.99607843, 0.99607843],\n",
       "         [1.        , 1.        , 1.        ],\n",
       "         ...,\n",
       "         [0.8901961 , 0.8901961 , 0.88235295],\n",
       "         [0.99607843, 0.99607843, 0.99607843],\n",
       "         [1.        , 1.        , 1.        ]],\n",
       "\n",
       "        [[1.        , 1.        , 1.        ],\n",
       "         [1.        , 1.        , 1.        ],\n",
       "         [1.        , 1.        , 1.        ],\n",
       "         ...,\n",
       "         [1.        , 1.        , 1.        ],\n",
       "         [1.        , 1.        , 1.        ],\n",
       "         [1.        , 1.        , 1.        ]],\n",
       "\n",
       "        ...,\n",
       "\n",
       "        [[0.5686275 , 0.5254902 , 0.50980395],\n",
       "         [0.4392157 , 0.40392157, 0.4       ],\n",
       "         [0.39607844, 0.39607844, 0.39215687],\n",
       "         ...,\n",
       "         [1.        , 1.        , 1.        ],\n",
       "         [1.        , 1.        , 1.        ],\n",
       "         [1.        , 1.        , 1.        ]],\n",
       "\n",
       "        [[0.5764706 , 0.5411765 , 0.5294118 ],\n",
       "         [0.4392157 , 0.40784314, 0.4117647 ],\n",
       "         [0.3254902 , 0.3372549 , 0.33333334],\n",
       "         ...,\n",
       "         [1.        , 1.        , 1.        ],\n",
       "         [1.        , 1.        , 1.        ],\n",
       "         [1.        , 1.        , 1.        ]],\n",
       "\n",
       "        [[0.87058824, 0.85882354, 0.85882354],\n",
       "         [0.7764706 , 0.77254903, 0.7764706 ],\n",
       "         [0.79607844, 0.8117647 , 0.8156863 ],\n",
       "         ...,\n",
       "         [1.        , 1.        , 1.        ],\n",
       "         [1.        , 1.        , 1.        ],\n",
       "         [1.        , 1.        , 1.        ]]],\n",
       "\n",
       "\n",
       "       [[[1.        , 1.        , 1.        ],\n",
       "         [1.        , 1.        , 1.        ],\n",
       "         [1.        , 1.        , 1.        ],\n",
       "         ...,\n",
       "         [0.80784315, 0.80784315, 0.8039216 ],\n",
       "         [1.        , 1.        , 1.        ],\n",
       "         [1.        , 1.        , 1.        ]],\n",
       "\n",
       "        [[1.        , 1.        , 1.        ],\n",
       "         [0.99607843, 0.99607843, 0.99607843],\n",
       "         [1.        , 1.        , 1.        ],\n",
       "         ...,\n",
       "         [0.8901961 , 0.8901961 , 0.88235295],\n",
       "         [0.99607843, 0.99607843, 0.99607843],\n",
       "         [1.        , 1.        , 1.        ]],\n",
       "\n",
       "        [[1.        , 1.        , 1.        ],\n",
       "         [1.        , 1.        , 1.        ],\n",
       "         [1.        , 1.        , 1.        ],\n",
       "         ...,\n",
       "         [1.        , 1.        , 1.        ],\n",
       "         [1.        , 1.        , 1.        ],\n",
       "         [1.        , 1.        , 1.        ]],\n",
       "\n",
       "        ...,\n",
       "\n",
       "        [[0.5686275 , 0.5254902 , 0.50980395],\n",
       "         [0.4392157 , 0.40392157, 0.4       ],\n",
       "         [0.39607844, 0.39607844, 0.39215687],\n",
       "         ...,\n",
       "         [1.        , 1.        , 1.        ],\n",
       "         [1.        , 1.        , 1.        ],\n",
       "         [1.        , 1.        , 1.        ]],\n",
       "\n",
       "        [[0.5764706 , 0.5411765 , 0.5294118 ],\n",
       "         [0.4392157 , 0.40784314, 0.4117647 ],\n",
       "         [0.3254902 , 0.3372549 , 0.33333334],\n",
       "         ...,\n",
       "         [1.        , 1.        , 1.        ],\n",
       "         [1.        , 1.        , 1.        ],\n",
       "         [1.        , 1.        , 1.        ]],\n",
       "\n",
       "        [[0.87058824, 0.85882354, 0.85882354],\n",
       "         [0.7764706 , 0.77254903, 0.7764706 ],\n",
       "         [0.79607844, 0.8117647 , 0.8156863 ],\n",
       "         ...,\n",
       "         [1.        , 1.        , 1.        ],\n",
       "         [1.        , 1.        , 1.        ],\n",
       "         [1.        , 1.        , 1.        ]]],\n",
       "\n",
       "\n",
       "       [[[1.        , 1.        , 1.        ],\n",
       "         [1.        , 1.        , 1.        ],\n",
       "         [1.        , 1.        , 1.        ],\n",
       "         ...,\n",
       "         [0.80784315, 0.80784315, 0.8039216 ],\n",
       "         [1.        , 1.        , 1.        ],\n",
       "         [1.        , 1.        , 1.        ]],\n",
       "\n",
       "        [[1.        , 1.        , 1.        ],\n",
       "         [0.99607843, 0.99607843, 0.99607843],\n",
       "         [1.        , 1.        , 1.        ],\n",
       "         ...,\n",
       "         [0.8901961 , 0.8901961 , 0.88235295],\n",
       "         [0.99607843, 0.99607843, 0.99607843],\n",
       "         [1.        , 1.        , 1.        ]],\n",
       "\n",
       "        [[1.        , 1.        , 1.        ],\n",
       "         [1.        , 1.        , 1.        ],\n",
       "         [1.        , 1.        , 1.        ],\n",
       "         ...,\n",
       "         [1.        , 1.        , 1.        ],\n",
       "         [1.        , 1.        , 1.        ],\n",
       "         [1.        , 1.        , 1.        ]],\n",
       "\n",
       "        ...,\n",
       "\n",
       "        [[0.5686275 , 0.5254902 , 0.50980395],\n",
       "         [0.4392157 , 0.40392157, 0.4       ],\n",
       "         [0.39607844, 0.39607844, 0.39215687],\n",
       "         ...,\n",
       "         [1.        , 1.        , 1.        ],\n",
       "         [1.        , 1.        , 1.        ],\n",
       "         [1.        , 1.        , 1.        ]],\n",
       "\n",
       "        [[0.5764706 , 0.5411765 , 0.5294118 ],\n",
       "         [0.4392157 , 0.40784314, 0.4117647 ],\n",
       "         [0.3254902 , 0.3372549 , 0.33333334],\n",
       "         ...,\n",
       "         [1.        , 1.        , 1.        ],\n",
       "         [1.        , 1.        , 1.        ],\n",
       "         [1.        , 1.        , 1.        ]],\n",
       "\n",
       "        [[0.87058824, 0.85882354, 0.85882354],\n",
       "         [0.7764706 , 0.77254903, 0.7764706 ],\n",
       "         [0.79607844, 0.8117647 , 0.8156863 ],\n",
       "         ...,\n",
       "         [1.        , 1.        , 1.        ],\n",
       "         [1.        , 1.        , 1.        ],\n",
       "         [1.        , 1.        , 1.        ]]],\n",
       "\n",
       "\n",
       "       ...,\n",
       "\n",
       "\n",
       "       [[[1.        , 1.        , 1.        ],\n",
       "         [1.        , 1.        , 1.        ],\n",
       "         [1.        , 1.        , 1.        ],\n",
       "         ...,\n",
       "         [0.80784315, 0.80784315, 0.8039216 ],\n",
       "         [1.        , 1.        , 1.        ],\n",
       "         [1.        , 1.        , 1.        ]],\n",
       "\n",
       "        [[1.        , 1.        , 1.        ],\n",
       "         [0.99607843, 0.99607843, 0.99607843],\n",
       "         [1.        , 1.        , 1.        ],\n",
       "         ...,\n",
       "         [0.8901961 , 0.8901961 , 0.88235295],\n",
       "         [0.99607843, 0.99607843, 0.99607843],\n",
       "         [1.        , 1.        , 1.        ]],\n",
       "\n",
       "        [[1.        , 1.        , 1.        ],\n",
       "         [1.        , 1.        , 1.        ],\n",
       "         [1.        , 1.        , 1.        ],\n",
       "         ...,\n",
       "         [1.        , 1.        , 1.        ],\n",
       "         [1.        , 1.        , 1.        ],\n",
       "         [1.        , 1.        , 1.        ]],\n",
       "\n",
       "        ...,\n",
       "\n",
       "        [[0.5686275 , 0.5254902 , 0.50980395],\n",
       "         [0.4392157 , 0.40392157, 0.4       ],\n",
       "         [0.39607844, 0.39607844, 0.39215687],\n",
       "         ...,\n",
       "         [1.        , 1.        , 1.        ],\n",
       "         [1.        , 1.        , 1.        ],\n",
       "         [1.        , 1.        , 1.        ]],\n",
       "\n",
       "        [[0.5764706 , 0.5411765 , 0.5294118 ],\n",
       "         [0.4392157 , 0.40784314, 0.4117647 ],\n",
       "         [0.3254902 , 0.3372549 , 0.33333334],\n",
       "         ...,\n",
       "         [1.        , 1.        , 1.        ],\n",
       "         [1.        , 1.        , 1.        ],\n",
       "         [1.        , 1.        , 1.        ]],\n",
       "\n",
       "        [[0.87058824, 0.85882354, 0.85882354],\n",
       "         [0.7764706 , 0.77254903, 0.7764706 ],\n",
       "         [0.79607844, 0.8117647 , 0.8156863 ],\n",
       "         ...,\n",
       "         [1.        , 1.        , 1.        ],\n",
       "         [1.        , 1.        , 1.        ],\n",
       "         [1.        , 1.        , 1.        ]]],\n",
       "\n",
       "\n",
       "       [[[1.        , 1.        , 1.        ],\n",
       "         [1.        , 1.        , 1.        ],\n",
       "         [1.        , 1.        , 1.        ],\n",
       "         ...,\n",
       "         [0.80784315, 0.80784315, 0.8039216 ],\n",
       "         [1.        , 1.        , 1.        ],\n",
       "         [1.        , 1.        , 1.        ]],\n",
       "\n",
       "        [[1.        , 1.        , 1.        ],\n",
       "         [0.99607843, 0.99607843, 0.99607843],\n",
       "         [1.        , 1.        , 1.        ],\n",
       "         ...,\n",
       "         [0.8901961 , 0.8901961 , 0.88235295],\n",
       "         [0.99607843, 0.99607843, 0.99607843],\n",
       "         [1.        , 1.        , 1.        ]],\n",
       "\n",
       "        [[1.        , 1.        , 1.        ],\n",
       "         [1.        , 1.        , 1.        ],\n",
       "         [1.        , 1.        , 1.        ],\n",
       "         ...,\n",
       "         [1.        , 1.        , 1.        ],\n",
       "         [1.        , 1.        , 1.        ],\n",
       "         [1.        , 1.        , 1.        ]],\n",
       "\n",
       "        ...,\n",
       "\n",
       "        [[0.5686275 , 0.5254902 , 0.50980395],\n",
       "         [0.4392157 , 0.40392157, 0.4       ],\n",
       "         [0.39607844, 0.39607844, 0.39215687],\n",
       "         ...,\n",
       "         [1.        , 1.        , 1.        ],\n",
       "         [1.        , 1.        , 1.        ],\n",
       "         [1.        , 1.        , 1.        ]],\n",
       "\n",
       "        [[0.5764706 , 0.5411765 , 0.5294118 ],\n",
       "         [0.4392157 , 0.40784314, 0.4117647 ],\n",
       "         [0.3254902 , 0.3372549 , 0.33333334],\n",
       "         ...,\n",
       "         [1.        , 1.        , 1.        ],\n",
       "         [1.        , 1.        , 1.        ],\n",
       "         [1.        , 1.        , 1.        ]],\n",
       "\n",
       "        [[0.87058824, 0.85882354, 0.85882354],\n",
       "         [0.7764706 , 0.77254903, 0.7764706 ],\n",
       "         [0.79607844, 0.8117647 , 0.8156863 ],\n",
       "         ...,\n",
       "         [1.        , 1.        , 1.        ],\n",
       "         [1.        , 1.        , 1.        ],\n",
       "         [1.        , 1.        , 1.        ]]],\n",
       "\n",
       "\n",
       "       [[[1.        , 1.        , 1.        ],\n",
       "         [1.        , 1.        , 1.        ],\n",
       "         [1.        , 1.        , 1.        ],\n",
       "         ...,\n",
       "         [0.80784315, 0.80784315, 0.8039216 ],\n",
       "         [1.        , 1.        , 1.        ],\n",
       "         [1.        , 1.        , 1.        ]],\n",
       "\n",
       "        [[1.        , 1.        , 1.        ],\n",
       "         [0.99607843, 0.99607843, 0.99607843],\n",
       "         [1.        , 1.        , 1.        ],\n",
       "         ...,\n",
       "         [0.8901961 , 0.8901961 , 0.88235295],\n",
       "         [0.99607843, 0.99607843, 0.99607843],\n",
       "         [1.        , 1.        , 1.        ]],\n",
       "\n",
       "        [[1.        , 1.        , 1.        ],\n",
       "         [1.        , 1.        , 1.        ],\n",
       "         [1.        , 1.        , 1.        ],\n",
       "         ...,\n",
       "         [1.        , 1.        , 1.        ],\n",
       "         [1.        , 1.        , 1.        ],\n",
       "         [1.        , 1.        , 1.        ]],\n",
       "\n",
       "        ...,\n",
       "\n",
       "        [[0.5686275 , 0.5254902 , 0.50980395],\n",
       "         [0.4392157 , 0.40392157, 0.4       ],\n",
       "         [0.39607844, 0.39607844, 0.39215687],\n",
       "         ...,\n",
       "         [1.        , 1.        , 1.        ],\n",
       "         [1.        , 1.        , 1.        ],\n",
       "         [1.        , 1.        , 1.        ]],\n",
       "\n",
       "        [[0.5764706 , 0.5411765 , 0.5294118 ],\n",
       "         [0.4392157 , 0.40784314, 0.4117647 ],\n",
       "         [0.3254902 , 0.3372549 , 0.33333334],\n",
       "         ...,\n",
       "         [1.        , 1.        , 1.        ],\n",
       "         [1.        , 1.        , 1.        ],\n",
       "         [1.        , 1.        , 1.        ]],\n",
       "\n",
       "        [[0.87058824, 0.85882354, 0.85882354],\n",
       "         [0.7764706 , 0.77254903, 0.7764706 ],\n",
       "         [0.79607844, 0.8117647 , 0.8156863 ],\n",
       "         ...,\n",
       "         [1.        , 1.        , 1.        ],\n",
       "         [1.        , 1.        , 1.        ],\n",
       "         [1.        , 1.        , 1.        ]]]], dtype=float32)>"
      ]
     },
     "execution_count": 26,
     "metadata": {},
     "output_type": "execute_result"
    }
   ],
   "source": [
    "train_x"
   ]
  },
  {
   "cell_type": "code",
   "execution_count": null,
   "id": "30767269",
   "metadata": {},
   "outputs": [],
   "source": []
  },
  {
   "cell_type": "code",
   "execution_count": 27,
   "id": "725e019b",
   "metadata": {},
   "outputs": [],
   "source": [
    "test_path = tf.io.matching_files('./CIFAR100/test/*.png')"
   ]
  },
  {
   "cell_type": "code",
   "execution_count": 29,
   "id": "88bcec92",
   "metadata": {},
   "outputs": [],
   "source": [
    "test_x = make_batch(test_path)"
   ]
  },
  {
   "cell_type": "code",
   "execution_count": 30,
   "id": "8d14bdf2",
   "metadata": {},
   "outputs": [
    {
     "data": {
      "text/plain": [
       "10000"
      ]
     },
     "execution_count": 30,
     "metadata": {},
     "output_type": "execute_result"
    }
   ],
   "source": [
    "len(test_x)"
   ]
  },
  {
   "cell_type": "code",
   "execution_count": 31,
   "id": "5dff217a",
   "metadata": {},
   "outputs": [
    {
     "data": {
      "text/plain": [
       "TensorShape([10000, 32, 32, 3])"
      ]
     },
     "execution_count": 31,
     "metadata": {},
     "output_type": "execute_result"
    }
   ],
   "source": [
    "test_x.shape"
   ]
  },
  {
   "cell_type": "code",
   "execution_count": 32,
   "id": "eb4031f5",
   "metadata": {},
   "outputs": [],
   "source": [
    "test_data_list = glob('./CIFAR100/test/*.png')"
   ]
  },
  {
   "cell_type": "code",
   "execution_count": 33,
   "id": "fc7ebbe5",
   "metadata": {},
   "outputs": [],
   "source": [
    "test_label_name_list = []\n",
    "for path in test_data_list:\n",
    "    test_label_name_list.append(get_label_from_path(path))"
   ]
  },
  {
   "cell_type": "code",
   "execution_count": 34,
   "id": "8dcabb8d",
   "metadata": {},
   "outputs": [],
   "source": [
    "test_unique_label_names = np.unique(test_label_name_list)"
   ]
  },
  {
   "cell_type": "code",
   "execution_count": 35,
   "id": "0c5a2582",
   "metadata": {},
   "outputs": [
    {
     "name": "stdout",
     "output_type": "stream",
     "text": [
      "['apple' 'aquarium_fish' 'baby' 'bear' 'beaver' 'bed' 'bee' 'beetle'\n",
      " 'bicycle' 'bottle' 'bowl' 'boy' 'bridge' 'bus' 'butterfly' 'camel' 'can'\n",
      " 'castle' 'caterpillar' 'cattle' 'chair' 'chimpanzee' 'clock' 'cloud'\n",
      " 'cockroach' 'couch' 'crab' 'crocodile' 'cup' 'dinosaur' 'dolphin'\n",
      " 'elephant' 'flatfish' 'forest' 'fox' 'girl' 'hamster' 'house' 'kangaroo'\n",
      " 'keyboard' 'lamp' 'lawn_mower' 'leopard' 'lion' 'lizard' 'lobster' 'man'\n",
      " 'maple_tree' 'motorcycle' 'mountain' 'mouse' 'mushroom' 'oak_tree'\n",
      " 'orange' 'orchid' 'otter' 'palm_tree' 'pear' 'pickup_truck' 'pine_tree'\n",
      " 'plain' 'plate' 'poppy' 'porcupine' 'possum' 'rabbit' 'raccoon' 'ray'\n",
      " 'road' 'rocket' 'rose' 'sea' 'seal' 'shark' 'shrew' 'skunk' 'skyscraper'\n",
      " 'snail' 'snake' 'spider' 'squirrel' 'streetcar' 'sunflower'\n",
      " 'sweet_pepper' 'table' 'tank' 'telephone' 'television' 'tiger' 'tractor'\n",
      " 'train' 'trout' 'tulip' 'turtle' 'wardrobe' 'whale' 'willow_tree' 'wolf'\n",
      " 'woman' 'worm'] 100\n"
     ]
    }
   ],
   "source": [
    "print(test_unique_label_names, len(test_unique_label_names))"
   ]
  },
  {
   "cell_type": "code",
   "execution_count": 36,
   "id": "116722b6",
   "metadata": {},
   "outputs": [
    {
     "data": {
      "text/plain": [
       "10000"
      ]
     },
     "execution_count": 36,
     "metadata": {},
     "output_type": "execute_result"
    }
   ],
   "source": [
    "len(test_label_name_list)"
   ]
  },
  {
   "cell_type": "code",
   "execution_count": 37,
   "id": "48aef36c",
   "metadata": {},
   "outputs": [],
   "source": [
    "test_unique_label_num = []\n",
    "a = 0\n",
    "for temp in range(len(test_unique_label_names)):\n",
    "    test_unique_label_num.append(a)\n",
    "    a+=1"
   ]
  },
  {
   "cell_type": "code",
   "execution_count": 38,
   "id": "a86ab1ca",
   "metadata": {},
   "outputs": [],
   "source": [
    "test_unique_label_names = np.unique(test_label_name_list)"
   ]
  },
  {
   "cell_type": "code",
   "execution_count": 39,
   "id": "8056abc1",
   "metadata": {},
   "outputs": [],
   "source": [
    "test_y_list = []\n",
    "for test_label_name_index in range(len(test_label_name_list)):\n",
    "    for test_unique_label_name_index in range(len(test_unique_label_names)):\n",
    "        if (test_label_name_list[test_label_name_index] == test_unique_label_names[test_unique_label_name_index]):\n",
    "            test_y_list.append(test_unique_label_name_index)\n",
    "test_y = np.array(test_y_list)"
   ]
  },
  {
   "cell_type": "code",
   "execution_count": 40,
   "id": "8b4a2d23",
   "metadata": {},
   "outputs": [
    {
     "data": {
      "text/plain": [
       "(<tf.Tensor: shape=(10000, 32, 32, 3), dtype=float32, numpy=\n",
       " array([[[[1.        , 1.        , 1.        ],\n",
       "          [1.        , 1.        , 1.        ],\n",
       "          [1.        , 1.        , 1.        ],\n",
       "          ...,\n",
       "          [0.80784315, 0.80784315, 0.8039216 ],\n",
       "          [1.        , 1.        , 1.        ],\n",
       "          [1.        , 1.        , 1.        ]],\n",
       " \n",
       "         [[1.        , 1.        , 1.        ],\n",
       "          [0.99607843, 0.99607843, 0.99607843],\n",
       "          [1.        , 1.        , 1.        ],\n",
       "          ...,\n",
       "          [0.8901961 , 0.8901961 , 0.88235295],\n",
       "          [0.99607843, 0.99607843, 0.99607843],\n",
       "          [1.        , 1.        , 1.        ]],\n",
       " \n",
       "         [[1.        , 1.        , 1.        ],\n",
       "          [1.        , 1.        , 1.        ],\n",
       "          [1.        , 1.        , 1.        ],\n",
       "          ...,\n",
       "          [1.        , 1.        , 1.        ],\n",
       "          [1.        , 1.        , 1.        ],\n",
       "          [1.        , 1.        , 1.        ]],\n",
       " \n",
       "         ...,\n",
       " \n",
       "         [[0.5686275 , 0.5254902 , 0.50980395],\n",
       "          [0.4392157 , 0.40392157, 0.4       ],\n",
       "          [0.39607844, 0.39607844, 0.39215687],\n",
       "          ...,\n",
       "          [1.        , 1.        , 1.        ],\n",
       "          [1.        , 1.        , 1.        ],\n",
       "          [1.        , 1.        , 1.        ]],\n",
       " \n",
       "         [[0.5764706 , 0.5411765 , 0.5294118 ],\n",
       "          [0.4392157 , 0.40784314, 0.4117647 ],\n",
       "          [0.3254902 , 0.3372549 , 0.33333334],\n",
       "          ...,\n",
       "          [1.        , 1.        , 1.        ],\n",
       "          [1.        , 1.        , 1.        ],\n",
       "          [1.        , 1.        , 1.        ]],\n",
       " \n",
       "         [[0.87058824, 0.85882354, 0.85882354],\n",
       "          [0.7764706 , 0.77254903, 0.7764706 ],\n",
       "          [0.79607844, 0.8117647 , 0.8156863 ],\n",
       "          ...,\n",
       "          [1.        , 1.        , 1.        ],\n",
       "          [1.        , 1.        , 1.        ],\n",
       "          [1.        , 1.        , 1.        ]]],\n",
       " \n",
       " \n",
       "        [[[1.        , 1.        , 1.        ],\n",
       "          [1.        , 1.        , 1.        ],\n",
       "          [1.        , 1.        , 1.        ],\n",
       "          ...,\n",
       "          [0.80784315, 0.80784315, 0.8039216 ],\n",
       "          [1.        , 1.        , 1.        ],\n",
       "          [1.        , 1.        , 1.        ]],\n",
       " \n",
       "         [[1.        , 1.        , 1.        ],\n",
       "          [0.99607843, 0.99607843, 0.99607843],\n",
       "          [1.        , 1.        , 1.        ],\n",
       "          ...,\n",
       "          [0.8901961 , 0.8901961 , 0.88235295],\n",
       "          [0.99607843, 0.99607843, 0.99607843],\n",
       "          [1.        , 1.        , 1.        ]],\n",
       " \n",
       "         [[1.        , 1.        , 1.        ],\n",
       "          [1.        , 1.        , 1.        ],\n",
       "          [1.        , 1.        , 1.        ],\n",
       "          ...,\n",
       "          [1.        , 1.        , 1.        ],\n",
       "          [1.        , 1.        , 1.        ],\n",
       "          [1.        , 1.        , 1.        ]],\n",
       " \n",
       "         ...,\n",
       " \n",
       "         [[0.5686275 , 0.5254902 , 0.50980395],\n",
       "          [0.4392157 , 0.40392157, 0.4       ],\n",
       "          [0.39607844, 0.39607844, 0.39215687],\n",
       "          ...,\n",
       "          [1.        , 1.        , 1.        ],\n",
       "          [1.        , 1.        , 1.        ],\n",
       "          [1.        , 1.        , 1.        ]],\n",
       " \n",
       "         [[0.5764706 , 0.5411765 , 0.5294118 ],\n",
       "          [0.4392157 , 0.40784314, 0.4117647 ],\n",
       "          [0.3254902 , 0.3372549 , 0.33333334],\n",
       "          ...,\n",
       "          [1.        , 1.        , 1.        ],\n",
       "          [1.        , 1.        , 1.        ],\n",
       "          [1.        , 1.        , 1.        ]],\n",
       " \n",
       "         [[0.87058824, 0.85882354, 0.85882354],\n",
       "          [0.7764706 , 0.77254903, 0.7764706 ],\n",
       "          [0.79607844, 0.8117647 , 0.8156863 ],\n",
       "          ...,\n",
       "          [1.        , 1.        , 1.        ],\n",
       "          [1.        , 1.        , 1.        ],\n",
       "          [1.        , 1.        , 1.        ]]],\n",
       " \n",
       " \n",
       "        [[[1.        , 1.        , 1.        ],\n",
       "          [1.        , 1.        , 1.        ],\n",
       "          [1.        , 1.        , 1.        ],\n",
       "          ...,\n",
       "          [0.80784315, 0.80784315, 0.8039216 ],\n",
       "          [1.        , 1.        , 1.        ],\n",
       "          [1.        , 1.        , 1.        ]],\n",
       " \n",
       "         [[1.        , 1.        , 1.        ],\n",
       "          [0.99607843, 0.99607843, 0.99607843],\n",
       "          [1.        , 1.        , 1.        ],\n",
       "          ...,\n",
       "          [0.8901961 , 0.8901961 , 0.88235295],\n",
       "          [0.99607843, 0.99607843, 0.99607843],\n",
       "          [1.        , 1.        , 1.        ]],\n",
       " \n",
       "         [[1.        , 1.        , 1.        ],\n",
       "          [1.        , 1.        , 1.        ],\n",
       "          [1.        , 1.        , 1.        ],\n",
       "          ...,\n",
       "          [1.        , 1.        , 1.        ],\n",
       "          [1.        , 1.        , 1.        ],\n",
       "          [1.        , 1.        , 1.        ]],\n",
       " \n",
       "         ...,\n",
       " \n",
       "         [[0.5686275 , 0.5254902 , 0.50980395],\n",
       "          [0.4392157 , 0.40392157, 0.4       ],\n",
       "          [0.39607844, 0.39607844, 0.39215687],\n",
       "          ...,\n",
       "          [1.        , 1.        , 1.        ],\n",
       "          [1.        , 1.        , 1.        ],\n",
       "          [1.        , 1.        , 1.        ]],\n",
       " \n",
       "         [[0.5764706 , 0.5411765 , 0.5294118 ],\n",
       "          [0.4392157 , 0.40784314, 0.4117647 ],\n",
       "          [0.3254902 , 0.3372549 , 0.33333334],\n",
       "          ...,\n",
       "          [1.        , 1.        , 1.        ],\n",
       "          [1.        , 1.        , 1.        ],\n",
       "          [1.        , 1.        , 1.        ]],\n",
       " \n",
       "         [[0.87058824, 0.85882354, 0.85882354],\n",
       "          [0.7764706 , 0.77254903, 0.7764706 ],\n",
       "          [0.79607844, 0.8117647 , 0.8156863 ],\n",
       "          ...,\n",
       "          [1.        , 1.        , 1.        ],\n",
       "          [1.        , 1.        , 1.        ],\n",
       "          [1.        , 1.        , 1.        ]]],\n",
       " \n",
       " \n",
       "        ...,\n",
       " \n",
       " \n",
       "        [[[1.        , 1.        , 1.        ],\n",
       "          [1.        , 1.        , 1.        ],\n",
       "          [1.        , 1.        , 1.        ],\n",
       "          ...,\n",
       "          [0.80784315, 0.80784315, 0.8039216 ],\n",
       "          [1.        , 1.        , 1.        ],\n",
       "          [1.        , 1.        , 1.        ]],\n",
       " \n",
       "         [[1.        , 1.        , 1.        ],\n",
       "          [0.99607843, 0.99607843, 0.99607843],\n",
       "          [1.        , 1.        , 1.        ],\n",
       "          ...,\n",
       "          [0.8901961 , 0.8901961 , 0.88235295],\n",
       "          [0.99607843, 0.99607843, 0.99607843],\n",
       "          [1.        , 1.        , 1.        ]],\n",
       " \n",
       "         [[1.        , 1.        , 1.        ],\n",
       "          [1.        , 1.        , 1.        ],\n",
       "          [1.        , 1.        , 1.        ],\n",
       "          ...,\n",
       "          [1.        , 1.        , 1.        ],\n",
       "          [1.        , 1.        , 1.        ],\n",
       "          [1.        , 1.        , 1.        ]],\n",
       " \n",
       "         ...,\n",
       " \n",
       "         [[0.5686275 , 0.5254902 , 0.50980395],\n",
       "          [0.4392157 , 0.40392157, 0.4       ],\n",
       "          [0.39607844, 0.39607844, 0.39215687],\n",
       "          ...,\n",
       "          [1.        , 1.        , 1.        ],\n",
       "          [1.        , 1.        , 1.        ],\n",
       "          [1.        , 1.        , 1.        ]],\n",
       " \n",
       "         [[0.5764706 , 0.5411765 , 0.5294118 ],\n",
       "          [0.4392157 , 0.40784314, 0.4117647 ],\n",
       "          [0.3254902 , 0.3372549 , 0.33333334],\n",
       "          ...,\n",
       "          [1.        , 1.        , 1.        ],\n",
       "          [1.        , 1.        , 1.        ],\n",
       "          [1.        , 1.        , 1.        ]],\n",
       " \n",
       "         [[0.87058824, 0.85882354, 0.85882354],\n",
       "          [0.7764706 , 0.77254903, 0.7764706 ],\n",
       "          [0.79607844, 0.8117647 , 0.8156863 ],\n",
       "          ...,\n",
       "          [1.        , 1.        , 1.        ],\n",
       "          [1.        , 1.        , 1.        ],\n",
       "          [1.        , 1.        , 1.        ]]],\n",
       " \n",
       " \n",
       "        [[[1.        , 1.        , 1.        ],\n",
       "          [1.        , 1.        , 1.        ],\n",
       "          [1.        , 1.        , 1.        ],\n",
       "          ...,\n",
       "          [0.80784315, 0.80784315, 0.8039216 ],\n",
       "          [1.        , 1.        , 1.        ],\n",
       "          [1.        , 1.        , 1.        ]],\n",
       " \n",
       "         [[1.        , 1.        , 1.        ],\n",
       "          [0.99607843, 0.99607843, 0.99607843],\n",
       "          [1.        , 1.        , 1.        ],\n",
       "          ...,\n",
       "          [0.8901961 , 0.8901961 , 0.88235295],\n",
       "          [0.99607843, 0.99607843, 0.99607843],\n",
       "          [1.        , 1.        , 1.        ]],\n",
       " \n",
       "         [[1.        , 1.        , 1.        ],\n",
       "          [1.        , 1.        , 1.        ],\n",
       "          [1.        , 1.        , 1.        ],\n",
       "          ...,\n",
       "          [1.        , 1.        , 1.        ],\n",
       "          [1.        , 1.        , 1.        ],\n",
       "          [1.        , 1.        , 1.        ]],\n",
       " \n",
       "         ...,\n",
       " \n",
       "         [[0.5686275 , 0.5254902 , 0.50980395],\n",
       "          [0.4392157 , 0.40392157, 0.4       ],\n",
       "          [0.39607844, 0.39607844, 0.39215687],\n",
       "          ...,\n",
       "          [1.        , 1.        , 1.        ],\n",
       "          [1.        , 1.        , 1.        ],\n",
       "          [1.        , 1.        , 1.        ]],\n",
       " \n",
       "         [[0.5764706 , 0.5411765 , 0.5294118 ],\n",
       "          [0.4392157 , 0.40784314, 0.4117647 ],\n",
       "          [0.3254902 , 0.3372549 , 0.33333334],\n",
       "          ...,\n",
       "          [1.        , 1.        , 1.        ],\n",
       "          [1.        , 1.        , 1.        ],\n",
       "          [1.        , 1.        , 1.        ]],\n",
       " \n",
       "         [[0.87058824, 0.85882354, 0.85882354],\n",
       "          [0.7764706 , 0.77254903, 0.7764706 ],\n",
       "          [0.79607844, 0.8117647 , 0.8156863 ],\n",
       "          ...,\n",
       "          [1.        , 1.        , 1.        ],\n",
       "          [1.        , 1.        , 1.        ],\n",
       "          [1.        , 1.        , 1.        ]]],\n",
       " \n",
       " \n",
       "        [[[1.        , 1.        , 1.        ],\n",
       "          [1.        , 1.        , 1.        ],\n",
       "          [1.        , 1.        , 1.        ],\n",
       "          ...,\n",
       "          [0.80784315, 0.80784315, 0.8039216 ],\n",
       "          [1.        , 1.        , 1.        ],\n",
       "          [1.        , 1.        , 1.        ]],\n",
       " \n",
       "         [[1.        , 1.        , 1.        ],\n",
       "          [0.99607843, 0.99607843, 0.99607843],\n",
       "          [1.        , 1.        , 1.        ],\n",
       "          ...,\n",
       "          [0.8901961 , 0.8901961 , 0.88235295],\n",
       "          [0.99607843, 0.99607843, 0.99607843],\n",
       "          [1.        , 1.        , 1.        ]],\n",
       " \n",
       "         [[1.        , 1.        , 1.        ],\n",
       "          [1.        , 1.        , 1.        ],\n",
       "          [1.        , 1.        , 1.        ],\n",
       "          ...,\n",
       "          [1.        , 1.        , 1.        ],\n",
       "          [1.        , 1.        , 1.        ],\n",
       "          [1.        , 1.        , 1.        ]],\n",
       " \n",
       "         ...,\n",
       " \n",
       "         [[0.5686275 , 0.5254902 , 0.50980395],\n",
       "          [0.4392157 , 0.40392157, 0.4       ],\n",
       "          [0.39607844, 0.39607844, 0.39215687],\n",
       "          ...,\n",
       "          [1.        , 1.        , 1.        ],\n",
       "          [1.        , 1.        , 1.        ],\n",
       "          [1.        , 1.        , 1.        ]],\n",
       " \n",
       "         [[0.5764706 , 0.5411765 , 0.5294118 ],\n",
       "          [0.4392157 , 0.40784314, 0.4117647 ],\n",
       "          [0.3254902 , 0.3372549 , 0.33333334],\n",
       "          ...,\n",
       "          [1.        , 1.        , 1.        ],\n",
       "          [1.        , 1.        , 1.        ],\n",
       "          [1.        , 1.        , 1.        ]],\n",
       " \n",
       "         [[0.87058824, 0.85882354, 0.85882354],\n",
       "          [0.7764706 , 0.77254903, 0.7764706 ],\n",
       "          [0.79607844, 0.8117647 , 0.8156863 ],\n",
       "          ...,\n",
       "          [1.        , 1.        , 1.        ],\n",
       "          [1.        , 1.        , 1.        ],\n",
       "          [1.        , 1.        , 1.        ]]]], dtype=float32)>,\n",
       " TensorShape([10000, 32, 32, 3]))"
      ]
     },
     "execution_count": 40,
     "metadata": {},
     "output_type": "execute_result"
    }
   ],
   "source": [
    "test_x, test_x.shape"
   ]
  },
  {
   "cell_type": "code",
   "execution_count": 41,
   "id": "c02d5de0",
   "metadata": {},
   "outputs": [
    {
     "data": {
      "text/plain": [
       "(array([49, 65, 67, ..., 91, 35,  0]), (10000,))"
      ]
     },
     "execution_count": 41,
     "metadata": {},
     "output_type": "execute_result"
    }
   ],
   "source": [
    "test_y, test_y.shape"
   ]
  },
  {
   "cell_type": "code",
   "execution_count": null,
   "id": "5d649f7b",
   "metadata": {},
   "outputs": [],
   "source": []
  },
  {
   "cell_type": "code",
   "execution_count": 43,
   "id": "9464d28b",
   "metadata": {},
   "outputs": [],
   "source": [
    "input_shape = (32,32,3)\n",
    "num_classes = 100"
   ]
  },
  {
   "cell_type": "code",
   "execution_count": null,
   "id": "fda925cf",
   "metadata": {},
   "outputs": [],
   "source": [
    "# test_label_name_array = np.array(test_label_name_list)\n",
    "# test_y = []\n",
    "# test_y.append(test_label_name_array)"
   ]
  },
  {
   "cell_type": "code",
   "execution_count": null,
   "id": "cd0e24bb",
   "metadata": {},
   "outputs": [],
   "source": [
    "# test_y_1d = np.concatenate(test_y)"
   ]
  },
  {
   "cell_type": "code",
   "execution_count": null,
   "id": "a5887308",
   "metadata": {},
   "outputs": [],
   "source": [
    "# test_x.shape, test_y_1d.shape"
   ]
  },
  {
   "cell_type": "code",
   "execution_count": null,
   "id": "64ae4b75",
   "metadata": {},
   "outputs": [],
   "source": []
  },
  {
   "cell_type": "code",
   "execution_count": null,
   "id": "77cc0ac1",
   "metadata": {},
   "outputs": [],
   "source": []
  },
  {
   "cell_type": "code",
   "execution_count": 44,
   "id": "74406a88",
   "metadata": {},
   "outputs": [],
   "source": [
    "def Mymodel(input_shape, num_classes):\n",
    "    \n",
    "    myinput = tf.keras.layers.Input(shape=input_shape)\n",
    "    \n",
    "    net= tf.keras.layers.Conv2D(32,3,1,padding='same',activation='relu')(myinput)\n",
    "    net= tf.keras.layers.Conv2D(32,3,1,padding='same',activation='relu')(net)\n",
    "    net = tf.keras.layers.MaxPool2D(pool_size=(2,2))(net)\n",
    "    net = tf.keras.layers.Dropout(0.2)(net)\n",
    "    \n",
    "    net= tf.keras.layers.Conv2D(64,3,1,padding='same',activation='relu')(myinput)\n",
    "    net= tf.keras.layers.Conv2D(64,3,1,padding='same',activation='relu')(net)\n",
    "    net = tf.keras.layers.MaxPool2D(pool_size=(2,2))(net)\n",
    "    net = tf.keras.layers.Dropout(0.2)(net)\n",
    "    \n",
    "    net= tf.keras.layers.Flatten()(net)\n",
    "    net= tf.keras.layers.Dense(512, activation='relu')(net)\n",
    "    net = tf.keras.layers.Dropout(0.3)(net)\n",
    "    net = tf.keras.layers.Dense(num_classes,activation='softmax')(net)\n",
    "    \n",
    "    model = tf.keras.Model(inputs=myinput, outputs=net, name=\"TEST\")\n",
    "    return model"
   ]
  },
  {
   "cell_type": "code",
   "execution_count": 45,
   "id": "50d4762c",
   "metadata": {},
   "outputs": [],
   "source": [
    "model = Mymodel(input_shape, num_classes)"
   ]
  },
  {
   "cell_type": "code",
   "execution_count": 46,
   "id": "927d0ec7",
   "metadata": {},
   "outputs": [
    {
     "name": "stdout",
     "output_type": "stream",
     "text": [
      "Model: \"TEST\"\n",
      "_________________________________________________________________\n",
      "Layer (type)                 Output Shape              Param #   \n",
      "=================================================================\n",
      "input_1 (InputLayer)         [(None, 32, 32, 3)]       0         \n",
      "_________________________________________________________________\n",
      "conv2d_2 (Conv2D)            (None, 32, 32, 64)        1792      \n",
      "_________________________________________________________________\n",
      "conv2d_3 (Conv2D)            (None, 32, 32, 64)        36928     \n",
      "_________________________________________________________________\n",
      "max_pooling2d_1 (MaxPooling2 (None, 16, 16, 64)        0         \n",
      "_________________________________________________________________\n",
      "dropout_1 (Dropout)          (None, 16, 16, 64)        0         \n",
      "_________________________________________________________________\n",
      "flatten (Flatten)            (None, 16384)             0         \n",
      "_________________________________________________________________\n",
      "dense (Dense)                (None, 512)               8389120   \n",
      "_________________________________________________________________\n",
      "dropout_2 (Dropout)          (None, 512)               0         \n",
      "_________________________________________________________________\n",
      "dense_1 (Dense)              (None, 100)               51300     \n",
      "=================================================================\n",
      "Total params: 8,479,140\n",
      "Trainable params: 8,479,140\n",
      "Non-trainable params: 0\n",
      "_________________________________________________________________\n"
     ]
    }
   ],
   "source": [
    "model.summary()"
   ]
  },
  {
   "cell_type": "code",
   "execution_count": 47,
   "id": "084dd81c",
   "metadata": {},
   "outputs": [],
   "source": [
    "model.compile(optimizer=tf.keras.optimizers.Adam(), loss='sparse_categorical_crossentropy', metrics=['accuracy'])"
   ]
  },
  {
   "cell_type": "code",
   "execution_count": 48,
   "id": "88a65fa0",
   "metadata": {},
   "outputs": [
    {
     "name": "stdout",
     "output_type": "stream",
     "text": [
      "Epoch 1/5\n",
      " 193/1563 [==>...........................] - ETA: 2:20 - loss: 4.6098 - accuracy: 0.0076"
     ]
    },
    {
     "ename": "KeyboardInterrupt",
     "evalue": "",
     "output_type": "error",
     "traceback": [
      "\u001b[1;31m---------------------------------------------------------------------------\u001b[0m",
      "\u001b[1;31mKeyboardInterrupt\u001b[0m                         Traceback (most recent call last)",
      "\u001b[1;32m<ipython-input-48-52222d52f77b>\u001b[0m in \u001b[0;36m<module>\u001b[1;34m\u001b[0m\n\u001b[0;32m      1\u001b[0m \u001b[0mnum_epochs\u001b[0m \u001b[1;33m=\u001b[0m \u001b[1;36m5\u001b[0m\u001b[1;33m\u001b[0m\u001b[1;33m\u001b[0m\u001b[0m\n\u001b[0;32m      2\u001b[0m \u001b[0mb_size\u001b[0m \u001b[1;33m=\u001b[0m \u001b[1;36m32\u001b[0m\u001b[1;33m\u001b[0m\u001b[1;33m\u001b[0m\u001b[0m\n\u001b[1;32m----> 3\u001b[1;33m \u001b[0mhist\u001b[0m \u001b[1;33m=\u001b[0m \u001b[0mmodel\u001b[0m\u001b[1;33m.\u001b[0m\u001b[0mfit\u001b[0m\u001b[1;33m(\u001b[0m\u001b[0mtrain_x\u001b[0m\u001b[1;33m,\u001b[0m \u001b[0mtrain_y\u001b[0m\u001b[1;33m,\u001b[0m \u001b[0mvalidation_data\u001b[0m\u001b[1;33m=\u001b[0m\u001b[1;33m(\u001b[0m\u001b[0mtest_x\u001b[0m\u001b[1;33m,\u001b[0m\u001b[0mtest_y\u001b[0m\u001b[1;33m)\u001b[0m\u001b[1;33m,\u001b[0m \u001b[0mbatch_size\u001b[0m\u001b[1;33m=\u001b[0m\u001b[0mb_size\u001b[0m\u001b[1;33m,\u001b[0m \u001b[0mshuffle\u001b[0m\u001b[1;33m=\u001b[0m \u001b[1;32mTrue\u001b[0m\u001b[1;33m,\u001b[0m\u001b[0mepochs\u001b[0m\u001b[1;33m=\u001b[0m\u001b[0mnum_epochs\u001b[0m\u001b[1;33m)\u001b[0m\u001b[1;33m\u001b[0m\u001b[1;33m\u001b[0m\u001b[0m\n\u001b[0m",
      "\u001b[1;32m~\\anaconda3\\lib\\site-packages\\keras\\engine\\training.py\u001b[0m in \u001b[0;36mfit\u001b[1;34m(self, x, y, batch_size, epochs, verbose, callbacks, validation_split, validation_data, shuffle, class_weight, sample_weight, initial_epoch, steps_per_epoch, validation_steps, validation_batch_size, validation_freq, max_queue_size, workers, use_multiprocessing)\u001b[0m\n\u001b[0;32m   1182\u001b[0m                 _r=1):\n\u001b[0;32m   1183\u001b[0m               \u001b[0mcallbacks\u001b[0m\u001b[1;33m.\u001b[0m\u001b[0mon_train_batch_begin\u001b[0m\u001b[1;33m(\u001b[0m\u001b[0mstep\u001b[0m\u001b[1;33m)\u001b[0m\u001b[1;33m\u001b[0m\u001b[1;33m\u001b[0m\u001b[0m\n\u001b[1;32m-> 1184\u001b[1;33m               \u001b[0mtmp_logs\u001b[0m \u001b[1;33m=\u001b[0m \u001b[0mself\u001b[0m\u001b[1;33m.\u001b[0m\u001b[0mtrain_function\u001b[0m\u001b[1;33m(\u001b[0m\u001b[0miterator\u001b[0m\u001b[1;33m)\u001b[0m\u001b[1;33m\u001b[0m\u001b[1;33m\u001b[0m\u001b[0m\n\u001b[0m\u001b[0;32m   1185\u001b[0m               \u001b[1;32mif\u001b[0m \u001b[0mdata_handler\u001b[0m\u001b[1;33m.\u001b[0m\u001b[0mshould_sync\u001b[0m\u001b[1;33m:\u001b[0m\u001b[1;33m\u001b[0m\u001b[1;33m\u001b[0m\u001b[0m\n\u001b[0;32m   1186\u001b[0m                 \u001b[0mcontext\u001b[0m\u001b[1;33m.\u001b[0m\u001b[0masync_wait\u001b[0m\u001b[1;33m(\u001b[0m\u001b[1;33m)\u001b[0m\u001b[1;33m\u001b[0m\u001b[1;33m\u001b[0m\u001b[0m\n",
      "\u001b[1;32m~\\anaconda3\\lib\\site-packages\\tensorflow\\python\\eager\\def_function.py\u001b[0m in \u001b[0;36m__call__\u001b[1;34m(self, *args, **kwds)\u001b[0m\n\u001b[0;32m    883\u001b[0m \u001b[1;33m\u001b[0m\u001b[0m\n\u001b[0;32m    884\u001b[0m       \u001b[1;32mwith\u001b[0m \u001b[0mOptionalXlaContext\u001b[0m\u001b[1;33m(\u001b[0m\u001b[0mself\u001b[0m\u001b[1;33m.\u001b[0m\u001b[0m_jit_compile\u001b[0m\u001b[1;33m)\u001b[0m\u001b[1;33m:\u001b[0m\u001b[1;33m\u001b[0m\u001b[1;33m\u001b[0m\u001b[0m\n\u001b[1;32m--> 885\u001b[1;33m         \u001b[0mresult\u001b[0m \u001b[1;33m=\u001b[0m \u001b[0mself\u001b[0m\u001b[1;33m.\u001b[0m\u001b[0m_call\u001b[0m\u001b[1;33m(\u001b[0m\u001b[1;33m*\u001b[0m\u001b[0margs\u001b[0m\u001b[1;33m,\u001b[0m \u001b[1;33m**\u001b[0m\u001b[0mkwds\u001b[0m\u001b[1;33m)\u001b[0m\u001b[1;33m\u001b[0m\u001b[1;33m\u001b[0m\u001b[0m\n\u001b[0m\u001b[0;32m    886\u001b[0m \u001b[1;33m\u001b[0m\u001b[0m\n\u001b[0;32m    887\u001b[0m       \u001b[0mnew_tracing_count\u001b[0m \u001b[1;33m=\u001b[0m \u001b[0mself\u001b[0m\u001b[1;33m.\u001b[0m\u001b[0mexperimental_get_tracing_count\u001b[0m\u001b[1;33m(\u001b[0m\u001b[1;33m)\u001b[0m\u001b[1;33m\u001b[0m\u001b[1;33m\u001b[0m\u001b[0m\n",
      "\u001b[1;32m~\\anaconda3\\lib\\site-packages\\tensorflow\\python\\eager\\def_function.py\u001b[0m in \u001b[0;36m_call\u001b[1;34m(self, *args, **kwds)\u001b[0m\n\u001b[0;32m    915\u001b[0m       \u001b[1;31m# In this case we have created variables on the first call, so we run the\u001b[0m\u001b[1;33m\u001b[0m\u001b[1;33m\u001b[0m\u001b[1;33m\u001b[0m\u001b[0m\n\u001b[0;32m    916\u001b[0m       \u001b[1;31m# defunned version which is guaranteed to never create variables.\u001b[0m\u001b[1;33m\u001b[0m\u001b[1;33m\u001b[0m\u001b[1;33m\u001b[0m\u001b[0m\n\u001b[1;32m--> 917\u001b[1;33m       \u001b[1;32mreturn\u001b[0m \u001b[0mself\u001b[0m\u001b[1;33m.\u001b[0m\u001b[0m_stateless_fn\u001b[0m\u001b[1;33m(\u001b[0m\u001b[1;33m*\u001b[0m\u001b[0margs\u001b[0m\u001b[1;33m,\u001b[0m \u001b[1;33m**\u001b[0m\u001b[0mkwds\u001b[0m\u001b[1;33m)\u001b[0m  \u001b[1;31m# pylint: disable=not-callable\u001b[0m\u001b[1;33m\u001b[0m\u001b[1;33m\u001b[0m\u001b[0m\n\u001b[0m\u001b[0;32m    918\u001b[0m     \u001b[1;32melif\u001b[0m \u001b[0mself\u001b[0m\u001b[1;33m.\u001b[0m\u001b[0m_stateful_fn\u001b[0m \u001b[1;32mis\u001b[0m \u001b[1;32mnot\u001b[0m \u001b[1;32mNone\u001b[0m\u001b[1;33m:\u001b[0m\u001b[1;33m\u001b[0m\u001b[1;33m\u001b[0m\u001b[0m\n\u001b[0;32m    919\u001b[0m       \u001b[1;31m# Release the lock early so that multiple threads can perform the call\u001b[0m\u001b[1;33m\u001b[0m\u001b[1;33m\u001b[0m\u001b[1;33m\u001b[0m\u001b[0m\n",
      "\u001b[1;32m~\\anaconda3\\lib\\site-packages\\tensorflow\\python\\eager\\function.py\u001b[0m in \u001b[0;36m__call__\u001b[1;34m(self, *args, **kwargs)\u001b[0m\n\u001b[0;32m   3037\u001b[0m       (graph_function,\n\u001b[0;32m   3038\u001b[0m        filtered_flat_args) = self._maybe_define_function(args, kwargs)\n\u001b[1;32m-> 3039\u001b[1;33m     return graph_function._call_flat(\n\u001b[0m\u001b[0;32m   3040\u001b[0m         filtered_flat_args, captured_inputs=graph_function.captured_inputs)  # pylint: disable=protected-access\n\u001b[0;32m   3041\u001b[0m \u001b[1;33m\u001b[0m\u001b[0m\n",
      "\u001b[1;32m~\\anaconda3\\lib\\site-packages\\tensorflow\\python\\eager\\function.py\u001b[0m in \u001b[0;36m_call_flat\u001b[1;34m(self, args, captured_inputs, cancellation_manager)\u001b[0m\n\u001b[0;32m   1961\u001b[0m         and executing_eagerly):\n\u001b[0;32m   1962\u001b[0m       \u001b[1;31m# No tape is watching; skip to running the function.\u001b[0m\u001b[1;33m\u001b[0m\u001b[1;33m\u001b[0m\u001b[1;33m\u001b[0m\u001b[0m\n\u001b[1;32m-> 1963\u001b[1;33m       return self._build_call_outputs(self._inference_function.call(\n\u001b[0m\u001b[0;32m   1964\u001b[0m           ctx, args, cancellation_manager=cancellation_manager))\n\u001b[0;32m   1965\u001b[0m     forward_backward = self._select_forward_and_backward_functions(\n",
      "\u001b[1;32m~\\anaconda3\\lib\\site-packages\\tensorflow\\python\\eager\\function.py\u001b[0m in \u001b[0;36mcall\u001b[1;34m(self, ctx, args, cancellation_manager)\u001b[0m\n\u001b[0;32m    589\u001b[0m       \u001b[1;32mwith\u001b[0m \u001b[0m_InterpolateFunctionError\u001b[0m\u001b[1;33m(\u001b[0m\u001b[0mself\u001b[0m\u001b[1;33m)\u001b[0m\u001b[1;33m:\u001b[0m\u001b[1;33m\u001b[0m\u001b[1;33m\u001b[0m\u001b[0m\n\u001b[0;32m    590\u001b[0m         \u001b[1;32mif\u001b[0m \u001b[0mcancellation_manager\u001b[0m \u001b[1;32mis\u001b[0m \u001b[1;32mNone\u001b[0m\u001b[1;33m:\u001b[0m\u001b[1;33m\u001b[0m\u001b[1;33m\u001b[0m\u001b[0m\n\u001b[1;32m--> 591\u001b[1;33m           outputs = execute.execute(\n\u001b[0m\u001b[0;32m    592\u001b[0m               \u001b[0mstr\u001b[0m\u001b[1;33m(\u001b[0m\u001b[0mself\u001b[0m\u001b[1;33m.\u001b[0m\u001b[0msignature\u001b[0m\u001b[1;33m.\u001b[0m\u001b[0mname\u001b[0m\u001b[1;33m)\u001b[0m\u001b[1;33m,\u001b[0m\u001b[1;33m\u001b[0m\u001b[1;33m\u001b[0m\u001b[0m\n\u001b[0;32m    593\u001b[0m               \u001b[0mnum_outputs\u001b[0m\u001b[1;33m=\u001b[0m\u001b[0mself\u001b[0m\u001b[1;33m.\u001b[0m\u001b[0m_num_outputs\u001b[0m\u001b[1;33m,\u001b[0m\u001b[1;33m\u001b[0m\u001b[1;33m\u001b[0m\u001b[0m\n",
      "\u001b[1;32m~\\anaconda3\\lib\\site-packages\\tensorflow\\python\\eager\\execute.py\u001b[0m in \u001b[0;36mquick_execute\u001b[1;34m(op_name, num_outputs, inputs, attrs, ctx, name)\u001b[0m\n\u001b[0;32m     57\u001b[0m   \u001b[1;32mtry\u001b[0m\u001b[1;33m:\u001b[0m\u001b[1;33m\u001b[0m\u001b[1;33m\u001b[0m\u001b[0m\n\u001b[0;32m     58\u001b[0m     \u001b[0mctx\u001b[0m\u001b[1;33m.\u001b[0m\u001b[0mensure_initialized\u001b[0m\u001b[1;33m(\u001b[0m\u001b[1;33m)\u001b[0m\u001b[1;33m\u001b[0m\u001b[1;33m\u001b[0m\u001b[0m\n\u001b[1;32m---> 59\u001b[1;33m     tensors = pywrap_tfe.TFE_Py_Execute(ctx._handle, device_name, op_name,\n\u001b[0m\u001b[0;32m     60\u001b[0m                                         inputs, attrs, num_outputs)\n\u001b[0;32m     61\u001b[0m   \u001b[1;32mexcept\u001b[0m \u001b[0mcore\u001b[0m\u001b[1;33m.\u001b[0m\u001b[0m_NotOkStatusException\u001b[0m \u001b[1;32mas\u001b[0m \u001b[0me\u001b[0m\u001b[1;33m:\u001b[0m\u001b[1;33m\u001b[0m\u001b[1;33m\u001b[0m\u001b[0m\n",
      "\u001b[1;31mKeyboardInterrupt\u001b[0m: "
     ]
    }
   ],
   "source": [
    "num_epochs = 5\n",
    "b_size = 32\n",
    "hist = model.fit(train_x, train_y, validation_data=(test_x,test_y), batch_size=b_size, shuffle= True,epochs=num_epochs)"
   ]
  },
  {
   "cell_type": "code",
   "execution_count": null,
   "id": "567c050a",
   "metadata": {},
   "outputs": [],
   "source": [
    "# def myResize(input_imgs, dst_size):\n",
    "#     out_imgs = []\n",
    "#     for img in input_imgs:\n",
    "#         img_out = cv2.resize(img,dsize=(dst_size,dst_size),interpolation=cv2.INTER_LINEAR)\n",
    "#         img_out = cv2.merge([img_out, img_out, img_out])\n",
    "#         out_imgs.append(img_out)\n",
    "#     return np.array(out_imgs)"
   ]
  },
  {
   "cell_type": "code",
   "execution_count": null,
   "id": "b728e7ef",
   "metadata": {},
   "outputs": [],
   "source": []
  }
 ],
 "metadata": {
  "kernelspec": {
   "display_name": "Python 3",
   "language": "python",
   "name": "python3"
  },
  "language_info": {
   "codemirror_mode": {
    "name": "ipython",
    "version": 3
   },
   "file_extension": ".py",
   "mimetype": "text/x-python",
   "name": "python",
   "nbconvert_exporter": "python",
   "pygments_lexer": "ipython3",
   "version": "3.8.8"
  }
 },
 "nbformat": 4,
 "nbformat_minor": 5
}
