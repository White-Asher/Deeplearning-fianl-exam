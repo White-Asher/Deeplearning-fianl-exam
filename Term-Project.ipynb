{
 "cells": [
  {
   "cell_type": "code",
   "execution_count": 1,
   "id": "065e5a9c",
   "metadata": {},
   "outputs": [],
   "source": [
    "from tqdm import trange, notebook"
   ]
  },
  {
   "cell_type": "code",
   "execution_count": 2,
   "id": "630f4589",
   "metadata": {},
   "outputs": [],
   "source": [
    "import numpy as np\n",
    "import tensorflow as tf\n",
    "import matplotlib.pyplot as plt\n",
    "%matplotlib inline\n",
    "import os \n",
    "from glob import glob\n",
    "from PIL import Image"
   ]
  },
  {
   "cell_type": "code",
   "execution_count": 29,
   "id": "3c4e8af5",
   "metadata": {},
   "outputs": [],
   "source": [
    "data_list = glob('./CIFAR100/train/*.png')"
   ]
  },
  {
   "cell_type": "code",
   "execution_count": 30,
   "id": "cdd0bd1e",
   "metadata": {},
   "outputs": [
    {
     "name": "stdout",
     "output_type": "stream",
     "text": [
      "./CIFAR100/train\\10020_pine_tree.png\n"
     ]
    }
   ],
   "source": [
    "path = data_list[23]\n",
    "print(path)"
   ]
  },
  {
   "cell_type": "code",
   "execution_count": 25,
   "id": "4e334be4",
   "metadata": {},
   "outputs": [
    {
     "data": {
      "text/plain": [
       "TensorShape([])"
      ]
     },
     "execution_count": 25,
     "metadata": {},
     "output_type": "execute_result"
    }
   ],
   "source": [
    "path.shape"
   ]
  },
  {
   "cell_type": "code",
   "execution_count": 31,
   "id": "e521ce04",
   "metadata": {},
   "outputs": [
    {
     "name": "stdout",
     "output_type": "stream",
     "text": [
      "10020_pine_tree.png\n"
     ]
    }
   ],
   "source": [
    "def get_label_from_path(path):\n",
    "    return path.split('\\\\')[-1]\n",
    "print (get_label_from_path(path))"
   ]
  },
  {
   "cell_type": "code",
   "execution_count": 182,
   "id": "7d426caf",
   "metadata": {},
   "outputs": [
    {
     "data": {
      "text/plain": [
       "'pine_tree'"
      ]
     },
     "execution_count": 182,
     "metadata": {},
     "output_type": "execute_result"
    }
   ],
   "source": [
    "def get_label_from_path(path):\n",
    "    labelpath1 = path.split('\\\\')[-1]\n",
    "    labelpath2 = labelpath1.split('.')[-2]\n",
    "    labelpath3 = labelpath2.split('_')[1:]\n",
    "    labelpath4 = \"_\".join(labelpath3)\n",
    "    return labelpath4\n",
    "\n",
    "get_label_from_path(path)"
   ]
  },
  {
   "cell_type": "code",
   "execution_count": 183,
   "id": "6a387349",
   "metadata": {},
   "outputs": [],
   "source": [
    "image = np.array(Image.open(path))"
   ]
  },
  {
   "cell_type": "code",
   "execution_count": 184,
   "id": "34523e71",
   "metadata": {},
   "outputs": [],
   "source": [
    "def read_image(path):\n",
    "    image = np.array(Image.open(path))\n",
    "    return image.reshape(image.shape[0], image.shape[1], 1)"
   ]
  },
  {
   "cell_type": "code",
   "execution_count": 185,
   "id": "b50e30eb",
   "metadata": {},
   "outputs": [],
   "source": [
    "class_name = get_label_from_path(path)"
   ]
  },
  {
   "cell_type": "code",
   "execution_count": 186,
   "id": "49332437",
   "metadata": {},
   "outputs": [],
   "source": [
    "label_name_list = []\n",
    "for path in data_list:\n",
    "    label_name_list.append(get_label_from_path(path))"
   ]
  },
  {
   "cell_type": "code",
   "execution_count": 187,
   "id": "95088aba",
   "metadata": {},
   "outputs": [],
   "source": [
    "unique_label_names = np.unique(label_name_list)"
   ]
  },
  {
   "cell_type": "code",
   "execution_count": 188,
   "id": "7e6abce5",
   "metadata": {},
   "outputs": [
    {
     "name": "stdout",
     "output_type": "stream",
     "text": [
      "['apple' 'aquarium_fish' 'baby' 'bear' 'beaver' 'bed' 'bee' 'beetle'\n",
      " 'bicycle' 'bottle' 'bowl' 'boy' 'bridge' 'bus' 'butterfly' 'camel' 'can'\n",
      " 'castle' 'caterpillar' 'cattle' 'chair' 'chimpanzee' 'clock' 'cloud'\n",
      " 'cockroach' 'couch' 'crab' 'crocodile' 'cup' 'dinosaur' 'dolphin'\n",
      " 'elephant' 'flatfish' 'forest' 'fox' 'girl' 'hamster' 'house' 'kangaroo'\n",
      " 'keyboard' 'lamp' 'lawn_mower' 'leopard' 'lion' 'lizard' 'lobster' 'man'\n",
      " 'maple_tree' 'motorcycle' 'mountain' 'mouse' 'mushroom' 'oak_tree'\n",
      " 'orange' 'orchid' 'otter' 'palm_tree' 'pear' 'pickup_truck' 'pine_tree'\n",
      " 'plain' 'plate' 'poppy' 'porcupine' 'possum' 'rabbit' 'raccoon' 'ray'\n",
      " 'road' 'rocket' 'rose' 'sea' 'seal' 'shark' 'shrew' 'skunk' 'skyscraper'\n",
      " 'snail' 'snake' 'spider' 'squirrel' 'streetcar' 'sunflower'\n",
      " 'sweet_pepper' 'table' 'tank' 'telephone' 'television' 'tiger' 'tractor'\n",
      " 'train' 'trout' 'tulip' 'turtle' 'wardrobe' 'whale' 'willow_tree' 'wolf'\n",
      " 'woman' 'worm'] 100\n"
     ]
    }
   ],
   "source": [
    "print(unique_label_names, len(unique_label_names))"
   ]
  },
  {
   "cell_type": "code",
   "execution_count": 189,
   "id": "0a4b9e99",
   "metadata": {},
   "outputs": [],
   "source": [
    "def onehot_encode_label(path):\n",
    "    onehot_label = unique_label_names == get_label_from_path(path)\n",
    "    onehot_label = onehot_label.astype(np.uint8)\n",
    "    return onehot_label"
   ]
  },
  {
   "cell_type": "code",
   "execution_count": 190,
   "id": "bdbed850",
   "metadata": {
    "scrolled": true
   },
   "outputs": [
    {
     "data": {
      "text/plain": [
       "array([0, 0, 0, 0, 0, 0, 0, 0, 0, 0, 0, 0, 0, 0, 0, 0, 0, 0, 0, 0, 0, 0,\n",
       "       0, 0, 0, 0, 0, 0, 0, 0, 0, 1, 0, 0, 0, 0, 0, 0, 0, 0, 0, 0, 0, 0,\n",
       "       0, 0, 0, 0, 0, 0, 0, 0, 0, 0, 0, 0, 0, 0, 0, 0, 0, 0, 0, 0, 0, 0,\n",
       "       0, 0, 0, 0, 0, 0, 0, 0, 0, 0, 0, 0, 0, 0, 0, 0, 0, 0, 0, 0, 0, 0,\n",
       "       0, 0, 0, 0, 0, 0, 0, 0, 0, 0, 0, 0], dtype=uint8)"
      ]
     },
     "execution_count": 190,
     "metadata": {},
     "output_type": "execute_result"
    }
   ],
   "source": [
    "onehot_encode_label(path)"
   ]
  },
  {
   "cell_type": "code",
   "execution_count": null,
   "id": "93660e30",
   "metadata": {},
   "outputs": [],
   "source": [
    "# ?????"
   ]
  },
  {
   "cell_type": "code",
   "execution_count": 191,
   "id": "58627836",
   "metadata": {},
   "outputs": [],
   "source": [
    "batch_size = 32\n",
    "data_height = 28\n",
    "data_width = 28\n",
    "channel_n = 1"
   ]
  },
  {
   "cell_type": "code",
   "execution_count": 192,
   "id": "e6042cac",
   "metadata": {},
   "outputs": [],
   "source": [
    "num_classes = 100"
   ]
  },
  {
   "cell_type": "code",
   "execution_count": 193,
   "id": "f2c02319",
   "metadata": {},
   "outputs": [],
   "source": [
    "batch_image = np.zeros((batch_size, data_height, data_width, channel_n))\n",
    "batch_label = np.zeros((batch_size, num_classes))"
   ]
  },
  {
   "cell_type": "code",
   "execution_count": 194,
   "id": "51f0c0d3",
   "metadata": {},
   "outputs": [
    {
     "ename": "ValueError",
     "evalue": "cannot reshape array of size 3072 into shape (32,32,1)",
     "output_type": "error",
     "traceback": [
      "\u001b[1;31m---------------------------------------------------------------------------\u001b[0m",
      "\u001b[1;31mValueError\u001b[0m                                Traceback (most recent call last)",
      "\u001b[1;32m<ipython-input-194-2a467024bdcb>\u001b[0m in \u001b[0;36m<module>\u001b[1;34m\u001b[0m\n\u001b[0;32m      1\u001b[0m \u001b[1;32mfor\u001b[0m \u001b[0mn\u001b[0m\u001b[1;33m,\u001b[0m \u001b[0mpath\u001b[0m \u001b[1;32min\u001b[0m \u001b[0menumerate\u001b[0m\u001b[1;33m(\u001b[0m\u001b[0mdata_list\u001b[0m\u001b[1;33m[\u001b[0m\u001b[1;33m:\u001b[0m\u001b[0mbatch_size\u001b[0m\u001b[1;33m]\u001b[0m\u001b[1;33m)\u001b[0m\u001b[1;33m:\u001b[0m\u001b[1;33m\u001b[0m\u001b[1;33m\u001b[0m\u001b[0m\n\u001b[1;32m----> 2\u001b[1;33m     \u001b[0mimage\u001b[0m \u001b[1;33m=\u001b[0m \u001b[0mread_image\u001b[0m\u001b[1;33m(\u001b[0m\u001b[0mpath\u001b[0m\u001b[1;33m)\u001b[0m\u001b[1;33m\u001b[0m\u001b[1;33m\u001b[0m\u001b[0m\n\u001b[0m\u001b[0;32m      3\u001b[0m     \u001b[0monehot_label\u001b[0m \u001b[1;33m=\u001b[0m \u001b[0monehot_encode_label\u001b[0m\u001b[1;33m(\u001b[0m\u001b[0mpath\u001b[0m\u001b[1;33m)\u001b[0m\u001b[1;33m\u001b[0m\u001b[1;33m\u001b[0m\u001b[0m\n\u001b[0;32m      4\u001b[0m     \u001b[0mbatch_image\u001b[0m\u001b[1;33m[\u001b[0m\u001b[0mn\u001b[0m\u001b[1;33m,\u001b[0m \u001b[1;33m:\u001b[0m\u001b[1;33m,\u001b[0m \u001b[1;33m:\u001b[0m\u001b[1;33m,\u001b[0m \u001b[1;33m:\u001b[0m\u001b[1;33m]\u001b[0m \u001b[1;33m=\u001b[0m \u001b[0mimage\u001b[0m\u001b[1;33m\u001b[0m\u001b[1;33m\u001b[0m\u001b[0m\n\u001b[0;32m      5\u001b[0m     \u001b[0mbatch_label\u001b[0m\u001b[1;33m[\u001b[0m\u001b[0mn\u001b[0m\u001b[1;33m,\u001b[0m \u001b[1;33m:\u001b[0m\u001b[1;33m]\u001b[0m \u001b[1;33m=\u001b[0m \u001b[0monehot_label\u001b[0m\u001b[1;33m\u001b[0m\u001b[1;33m\u001b[0m\u001b[0m\n",
      "\u001b[1;32m<ipython-input-184-5f226737e963>\u001b[0m in \u001b[0;36mread_image\u001b[1;34m(path)\u001b[0m\n\u001b[0;32m      1\u001b[0m \u001b[1;32mdef\u001b[0m \u001b[0mread_image\u001b[0m\u001b[1;33m(\u001b[0m\u001b[0mpath\u001b[0m\u001b[1;33m)\u001b[0m\u001b[1;33m:\u001b[0m\u001b[1;33m\u001b[0m\u001b[1;33m\u001b[0m\u001b[0m\n\u001b[0;32m      2\u001b[0m     \u001b[0mimage\u001b[0m \u001b[1;33m=\u001b[0m \u001b[0mnp\u001b[0m\u001b[1;33m.\u001b[0m\u001b[0marray\u001b[0m\u001b[1;33m(\u001b[0m\u001b[0mImage\u001b[0m\u001b[1;33m.\u001b[0m\u001b[0mopen\u001b[0m\u001b[1;33m(\u001b[0m\u001b[0mpath\u001b[0m\u001b[1;33m)\u001b[0m\u001b[1;33m)\u001b[0m\u001b[1;33m\u001b[0m\u001b[1;33m\u001b[0m\u001b[0m\n\u001b[1;32m----> 3\u001b[1;33m     \u001b[1;32mreturn\u001b[0m \u001b[0mimage\u001b[0m\u001b[1;33m.\u001b[0m\u001b[0mreshape\u001b[0m\u001b[1;33m(\u001b[0m\u001b[0mimage\u001b[0m\u001b[1;33m.\u001b[0m\u001b[0mshape\u001b[0m\u001b[1;33m[\u001b[0m\u001b[1;36m0\u001b[0m\u001b[1;33m]\u001b[0m\u001b[1;33m,\u001b[0m \u001b[0mimage\u001b[0m\u001b[1;33m.\u001b[0m\u001b[0mshape\u001b[0m\u001b[1;33m[\u001b[0m\u001b[1;36m1\u001b[0m\u001b[1;33m]\u001b[0m\u001b[1;33m,\u001b[0m \u001b[1;36m1\u001b[0m\u001b[1;33m)\u001b[0m\u001b[1;33m\u001b[0m\u001b[1;33m\u001b[0m\u001b[0m\n\u001b[0m",
      "\u001b[1;31mValueError\u001b[0m: cannot reshape array of size 3072 into shape (32,32,1)"
     ]
    }
   ],
   "source": [
    "for n, path in enumerate(data_list[:batch_size]):\n",
    "    image = read_image(path)\n",
    "    onehot_label = onehot_encode_label(path)\n",
    "    batch_image[n, :, :, :] = image\n",
    "    batch_label[n, :] = onehot_label"
   ]
  },
  {
   "cell_type": "code",
   "execution_count": null,
   "id": "4d2fa295",
   "metadata": {},
   "outputs": [],
   "source": [
    "# ???????"
   ]
  },
  {
   "cell_type": "code",
   "execution_count": 3,
   "id": "b362744c",
   "metadata": {},
   "outputs": [],
   "source": [
    "paths = tf.io.matching_files('./CIFAR100/train/*.png')"
   ]
  },
  {
   "cell_type": "code",
   "execution_count": 4,
   "id": "1718e4e8",
   "metadata": {
    "scrolled": true
   },
   "outputs": [
    {
     "data": {
      "text/plain": [
       "<tf.Tensor: shape=(50000,), dtype=string, numpy=\n",
       "array([b'.\\\\CIFAR100\\\\train\\\\0_cattle.png',\n",
       "       b'.\\\\CIFAR100\\\\train\\\\10000_motorcycle.png',\n",
       "       b'.\\\\CIFAR100\\\\train\\\\10001_snail.png', ...,\n",
       "       b'.\\\\CIFAR100\\\\train\\\\999_willow_tree.png',\n",
       "       b'.\\\\CIFAR100\\\\train\\\\99_turtle.png',\n",
       "       b'.\\\\CIFAR100\\\\train\\\\9_elephant.png'], dtype=object)>"
      ]
     },
     "execution_count": 4,
     "metadata": {},
     "output_type": "execute_result"
    }
   ],
   "source": [
    "paths"
   ]
  },
  {
   "cell_type": "code",
   "execution_count": 5,
   "id": "7eabfff3",
   "metadata": {
    "scrolled": true
   },
   "outputs": [
    {
     "data": {
      "text/plain": [
       "(array([b'.\\\\CIFAR100\\\\train\\\\0_cattle.png',\n",
       "        b'.\\\\CIFAR100\\\\train\\\\10000_motorcycle.png',\n",
       "        b'.\\\\CIFAR100\\\\train\\\\10001_snail.png', ...,\n",
       "        b'.\\\\CIFAR100\\\\train\\\\999_willow_tree.png',\n",
       "        b'.\\\\CIFAR100\\\\train\\\\99_turtle.png',\n",
       "        b'.\\\\CIFAR100\\\\train\\\\9_elephant.png'], dtype=object),\n",
       " numpy.ndarray,\n",
       " (50000,))"
      ]
     },
     "execution_count": 5,
     "metadata": {},
     "output_type": "execute_result"
    }
   ],
   "source": [
    "x = paths.numpy()\n",
    "x, type(x), x.shape"
   ]
  },
  {
   "cell_type": "code",
   "execution_count": null,
   "id": "d5b32aa6",
   "metadata": {},
   "outputs": [],
   "source": []
  },
  {
   "cell_type": "code",
   "execution_count": 35,
   "id": "108c92b2",
   "metadata": {},
   "outputs": [],
   "source": [
    "def tf_read_image(path):\n",
    "    gfile = tf.io.read_file(path)\n",
    "    image = tf.io.decode_image(gfile, dtype=tf.float32)\n",
    "    return image"
   ]
  },
  {
   "cell_type": "code",
   "execution_count": 37,
   "id": "3085b537",
   "metadata": {},
   "outputs": [],
   "source": [
    "def make_batch(batch_paths):\n",
    "    batch_images = []\n",
    "    for path in batch_paths:\n",
    "        image = tf_read_image(path)\n",
    "        batch_images.append(image)\n",
    "    return tf.convert_to_tensor(batch_images)"
   ]
  },
  {
   "cell_type": "code",
   "execution_count": null,
   "id": "dbeebcd7",
   "metadata": {},
   "outputs": [],
   "source": [
    "train_x_1d = make_batch(train_data_paths_1d)"
   ]
  },
  {
   "cell_type": "code",
   "execution_count": null,
   "id": "ae26f79e",
   "metadata": {},
   "outputs": [],
   "source": []
  },
  {
   "cell_type": "code",
   "execution_count": null,
   "id": "e61c88dc",
   "metadata": {},
   "outputs": [],
   "source": []
  },
  {
   "cell_type": "code",
   "execution_count": 6,
   "id": "fe86ae11",
   "metadata": {},
   "outputs": [],
   "source": [
    "import cv2"
   ]
  },
  {
   "cell_type": "code",
   "execution_count": 7,
   "id": "567c050a",
   "metadata": {},
   "outputs": [],
   "source": [
    "def myResize(input_imgs, dst_size):\n",
    "    out_imgs = []\n",
    "    for img in input_imgs:\n",
    "        img_out = cv2.resize(img,dsize=(dst_size,dst_size),interpolation=cv2.INTER_LINEAR)\n",
    "        img_out = cv2.merge([img_out, img_out, img_out])\n",
    "        out_imgs.append(img_out)\n",
    "    return np.array(out_imgs)"
   ]
  },
  {
   "cell_type": "code",
   "execution_count": 2,
   "id": "5f2d8b37",
   "metadata": {},
   "outputs": [],
   "source": [
    "input_shape = (28,28,1)\n",
    "num_classes = 100"
   ]
  },
  {
   "cell_type": "code",
   "execution_count": 3,
   "id": "813f84a3",
   "metadata": {},
   "outputs": [],
   "source": [
    "inputs = tf.keras.layers.Input(shape=input_shape) \n",
    "output_cv_layer1 = tf.keras.layers.Conv2D(32,3,1,padding='same',activation='relu')(inputs)\n",
    "output_cv_layer2 = tf.keras.layers.Conv2D(32,3,1,padding='same',activation='relu')(output_cv_layer1)\n",
    "output_pool_layer = tf.keras.layers.MaxPool2D(2,2)(output_cv_layer2)\n",
    "output_drop_layer = tf.keras.layers.Dropout(0.2)(output_pool_layer)"
   ]
  },
  {
   "cell_type": "code",
   "execution_count": 4,
   "id": "288f9448",
   "metadata": {},
   "outputs": [],
   "source": [
    "def Mymodel(input_shape, num_classes):\n",
    "    myinput = tf.keras.layers.Input(shape=input_shape)\n",
    "    net= tf.keras.layers.Conv2D(32,3,1,padding='same',activation='relu')(myinput)\n",
    "    net= tf.keras.layers.Conv2D(32,3,1,padding='same',activation='relu')(net)\n",
    "    net = tf.keras.layers.MaxPool2D(pool_size=(2,2))(net)\n",
    "    net = tf.keras.layers.Dropout(0.2)(net)\n",
    "    \n",
    "    net= tf.keras.layers.Conv2D(64,3,1,padding='same',activation='relu')(myinput)\n",
    "    net= tf.keras.layers.Conv2D(64,3,1,padding='same',activation='relu')(net)\n",
    "    net = tf.keras.layers.MaxPool2D(pool_size=(2,2))(net)\n",
    "    net = tf.keras.layers.Dropout(0.2)(net)\n",
    "    \n",
    "    net= tf.keras.layers.Flatten()(net)\n",
    "    net= tf.keras.layers.Dense(512, activation='relu')(net)\n",
    "    net = tf.keras.layers.Dropout(0.3)(net)\n",
    "    net = tf.keras.layers.Dense(num_classes,activation='softmax')(net)\n",
    "    \n",
    "    model = tf.keras.Model(inputs=myinput, outputs=net, name=\"TEST\")\n",
    "    return model"
   ]
  },
  {
   "cell_type": "code",
   "execution_count": 5,
   "id": "d249c2fc",
   "metadata": {},
   "outputs": [],
   "source": [
    "mymodel = Mymodel(input_shape,num_classes)"
   ]
  },
  {
   "cell_type": "code",
   "execution_count": null,
   "id": "b728e7ef",
   "metadata": {},
   "outputs": [],
   "source": []
  }
 ],
 "metadata": {
  "kernelspec": {
   "display_name": "Python 3",
   "language": "python",
   "name": "python3"
  },
  "language_info": {
   "codemirror_mode": {
    "name": "ipython",
    "version": 3
   },
   "file_extension": ".py",
   "mimetype": "text/x-python",
   "name": "python",
   "nbconvert_exporter": "python",
   "pygments_lexer": "ipython3",
   "version": "3.8.8"
  }
 },
 "nbformat": 4,
 "nbformat_minor": 5
}
